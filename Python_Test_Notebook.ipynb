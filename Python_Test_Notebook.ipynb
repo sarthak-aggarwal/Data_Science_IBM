{
    "cells": [
        {
            "cell_type": "markdown",
            "metadata": {},
            "source": "### This is a test notebook to see Python codes on Jupyter Notebook on Watson studio"
        },
        {
            "cell_type": "markdown",
            "metadata": {},
            "source": "#### For Loop in Python"
        },
        {
            "cell_type": "code",
            "execution_count": 2,
            "metadata": {},
            "outputs": [
                {
                    "name": "stdout",
                    "output_type": "stream",
                    "text": "J = 1\nJ = 3\nJ = 6\nJ = 10\nJ = 15\n"
                }
            ],
            "source": "i = 0 \nj = 0\nx = [1,2,3,4,5]\nfor i in x:\n    j = j+i\n    i = i+1\n    print(\"J = \" + str(j))\n"
        }
    ],
    "metadata": {
        "kernelspec": {
            "display_name": "Python 3.6",
            "language": "python",
            "name": "python3"
        },
        "language_info": {
            "codemirror_mode": {
                "name": "ipython",
                "version": 3
            },
            "file_extension": ".py",
            "mimetype": "text/x-python",
            "name": "python",
            "nbconvert_exporter": "python",
            "pygments_lexer": "ipython3",
            "version": "3.6.9"
        }
    },
    "nbformat": 4,
    "nbformat_minor": 1
}